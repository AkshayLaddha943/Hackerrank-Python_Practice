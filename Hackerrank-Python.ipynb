{
 "cells": [
  {
   "cell_type": "code",
   "execution_count": 8,
   "id": "9d4a1e60",
   "metadata": {},
   "outputs": [
    {
     "name": "stdout",
     "output_type": "stream",
     "text": [
      "4\n",
      "Not Weird\n"
     ]
    }
   ],
   "source": [
    "#Hackerrank - If-else problem:\n",
    "\n",
    "if __name__ == '__main__':\n",
    "    n = int(input())\n",
    "    if n%2 != 0:\n",
    "        print(\"Weird\")\n",
    "    if n%2 == 0 and 2<n<5:\n",
    "        print(\"Not Weird\")\n",
    "    if n%2 == 0 and 6<n<=20:\n",
    "        print(\"Weird\")\n",
    "    if n%2 == 0 and n>20:\n",
    "        print(\"Not Weird\")"
   ]
  },
  {
   "cell_type": "code",
   "execution_count": null,
   "id": "619cbfdf",
   "metadata": {},
   "outputs": [],
   "source": [
    "#Hackerrank - Arithmetic operators problem:\n",
    "\n",
    "if __name__ == '__main__':\n",
    "    a = int(input())\n",
    "    b = int(input())\n",
    "    print(a+b)\n",
    "    print(a-b)\n",
    "    print(a*b)"
   ]
  },
  {
   "cell_type": "code",
   "execution_count": null,
   "id": "f0692ad7",
   "metadata": {},
   "outputs": [],
   "source": [
    "#Hackerrank - Division problem:\n",
    "\n",
    "if __name__ == '__main__':\n",
    "    a = int(input())\n",
    "    b = int(input())\n",
    "    print(a//b)\n",
    "    print(a/b)"
   ]
  },
  {
   "cell_type": "code",
   "execution_count": null,
   "id": "24b24aa3",
   "metadata": {},
   "outputs": [],
   "source": [
    "#Hackerrank - Loops problem:\n",
    "\n",
    "if __name__ == '__main__':\n",
    "    n = int(input())\n",
    "    for i in range(n):\n",
    "        print(i**2)"
   ]
  },
  {
   "cell_type": "code",
   "execution_count": null,
   "id": "99789826",
   "metadata": {},
   "outputs": [],
   "source": [
    "#Hackerrank - Function (leap year) problem:\n",
    "\n",
    "def is_leap(year):\n",
    "    leap = False\n",
    "    leap = year%4 == 0 and (year%100 != 0 or year%400 == 0)\n",
    "    return leap\n",
    "\n",
    "year = int(input())\n",
    "print(is_leap(year))"
   ]
  },
  {
   "cell_type": "code",
   "execution_count": null,
   "id": "bac41a23",
   "metadata": {},
   "outputs": [],
   "source": [
    "#Hackerrank - Print(using separator) problem:\n",
    "\n",
    "if __name__ == '__main__':\n",
    "    n = int(input())\n",
    "    print(*range(1, n+1), sep='')"
   ]
  },
  {
   "cell_type": "code",
   "execution_count": null,
   "id": "f85f14f2",
   "metadata": {},
   "outputs": [],
   "source": [
    "#Hackerrank - List Comprehension problem:\n",
    "\n",
    "if __name__ == '__main__':\n",
    "    x = int(input())\n",
    "    y = int(input())\n",
    "    z = int(input())\n",
    "    n = int(input())\n",
    "    print([[a,b,c] for a in range(0,x+1) for b in range(0, y+1) for c in range(0, z+1) if a+b+c!=n])"
   ]
  },
  {
   "cell_type": "code",
   "execution_count": 14,
   "id": "9db9bc95",
   "metadata": {},
   "outputs": [
    {
     "name": "stdout",
     "output_type": "stream",
     "text": [
      "5\n",
      "2 3 6 6 5\n",
      "5\n"
     ]
    }
   ],
   "source": [
    "#Hackerrank - Find Runner_up score problem:\n",
    "\n",
    "if __name__ == '__main__':\n",
    "    n = int(input())\n",
    "    arr = map(int, input().split())\n",
    "    sort = sorted(set(arr))\n",
    "    print(sort[-2])"
   ]
  },
  {
   "cell_type": "code",
   "execution_count": 15,
   "id": "63dde73c",
   "metadata": {},
   "outputs": [
    {
     "name": "stdout",
     "output_type": "stream",
     "text": [
      "2\n",
      "Akshay 25 51 66\n",
      "Rohit 23 77 88\n",
      "Akshay\n"
     ]
    }
   ],
   "source": [
    "#Hackerrank - Finding the Percentage problem:\n",
    "\n",
    "if __name__ == '__main__':\n",
    "    n = int(input())\n",
    "    student_marks = {}\n",
    "    for _ in range(n):\n",
    "        name, *line = input().split()\n",
    "        scores = list(map(float, line))\n",
    "        student_marks[name] = scores\n",
    "    query_name = input()\n",
    "    query_score = student_marks[query_name]\n",
    "    print(\"{:.2f}\".format(sum(query_score)/len(query_score)))"
   ]
  },
  {
   "cell_type": "code",
   "execution_count": 6,
   "id": "8fa66728",
   "metadata": {},
   "outputs": [
    {
     "name": "stdout",
     "output_type": "stream",
     "text": [
      "23 Go for it\n"
     ]
    }
   ],
   "source": [
    "list1 = ['23', 'Go for it']\n",
    "listasstring = ' '.join(list1)\n",
    "print(listasstring)"
   ]
  },
  {
   "cell_type": "code",
   "execution_count": null,
   "id": "09ed3726",
   "metadata": {},
   "outputs": [],
   "source": []
  }
 ],
 "metadata": {
  "kernelspec": {
   "display_name": "Python 3",
   "language": "python",
   "name": "python3"
  },
  "language_info": {
   "codemirror_mode": {
    "name": "ipython",
    "version": 3
   },
   "file_extension": ".py",
   "mimetype": "text/x-python",
   "name": "python",
   "nbconvert_exporter": "python",
   "pygments_lexer": "ipython3",
   "version": "3.8.8"
  }
 },
 "nbformat": 4,
 "nbformat_minor": 5
}
